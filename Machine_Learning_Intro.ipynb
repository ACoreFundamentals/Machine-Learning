{
  "nbformat": 4,
  "nbformat_minor": 0,
  "metadata": {
    "colab": {
      "name": "Machine Learning Intro.ipynb",
      "version": "0.3.2",
      "provenance": [],
      "include_colab_link": true
    },
    "kernelspec": {
      "name": "python3",
      "display_name": "Python 3"
    }
  },
  "cells": [
    {
      "cell_type": "markdown",
      "metadata": {
        "id": "view-in-github",
        "colab_type": "text"
      },
      "source": [
        "<a href=\"https://colab.research.google.com/github/AILearnFundamentals/Machine-Learning/blob/master/Machine_Learning_Intro.ipynb\" target=\"_parent\"><img src=\"https://colab.research.google.com/assets/colab-badge.svg\" alt=\"Open In Colab\"/></a>"
      ]
    },
    {
      "cell_type": "code",
      "metadata": {
        "id": "Fv-KNA4_Wlcz",
        "colab_type": "code",
        "colab": {}
      },
      "source": [
        ""
      ],
      "execution_count": 0,
      "outputs": []
    },
    {
      "cell_type": "markdown",
      "metadata": {
        "id": "ae_UDuw6Wrez",
        "colab_type": "text"
      },
      "source": [
        "# AI Learn Fundamentals\n",
        "## Lesson 1: Introduction to Machine Learning Types and Algorithms\n",
        "## What we will cover in this session\n",
        "## Definitions:\n",
        "* What is Artificial Intelligence?\n",
        "* What is Machine Learning?\n",
        "* Types of machine learning \n",
        "* Algorithms associated with each type\n",
        "### * Gradient Boosting Algorithms\n",
        "\n",
        "## Artificial Intelligence\n",
        "### Artificial Intelligence is an area of computer science that is dedicated to giving machines the ability to perform tasks that normally would be perfomed by humans, basically creating intelligent systems and this is good especially when there are repetetive tasks and tasks that require high levels of precision.\n",
        "\n",
        "## Artificial Intelligence sub-fields:\n",
        "* ### Neural Networks\n",
        "* ### Machine Learning\n",
        "* ### Computer Vision\n",
        "* ### Natural Language Processing\n",
        "* ### Expert Systems\n",
        "* ### Robotics\n",
        "* ### ...etc\n",
        "\n",
        "### For now we will consider Machine Learning, Neural Networks and Computer Vision in the AI Learn Fundamentals Program and the first sub-field will consider is Machine Learning\n",
        "\n",
        "## Machine Learning\n",
        "### Machine Learning is a sub-field or Application of Artificial Intelligence, it allows us to develop computer systems that are able to learn to perfom tasks without being explicitly programmed. It aims to develop programs that can access data and use it to learn all by them self.\n",
        "\n",
        "## Machine Learning Types:\n",
        "### These are machine learning techniques or ways to build and train models that perform certain or a particular task e.g prediction of outcomes or a automated task like assembling a car by robots\n",
        "* ### Supervised Learning\n",
        "* ### Unsupervised Learning\n",
        "* ### Semi-supervised Learning\n",
        "* ### Reinforcement Learning\n",
        "\n",
        "### There are many algorithms associated with these machine learning types.\n",
        "\n",
        "## Supervised Learning\n",
        "### In this algorithm, when building or training a model, the machine can learn from experiences where it can see the input and output of that action and from that it develops a model that has learned the general function or way to get the outputs from the inputs. In Supervised Learning the learning data is labeled meaning the outputs of the inputs are known before training.\n",
        "\n",
        "### Algorithms:\n",
        "* ### Regression\n",
        "* ### Logistic Regression\n",
        "* ### Decision Tree\n",
        "* ### Random Forest\n",
        "* ### KNN\n",
        "* ### ...etc\n",
        "\n",
        "## Unsupervised Learning\n",
        "### Unlike the Supervised Learning algorithm, in this algorithm the data is not labeled meaning that the output for the inputs to the system is unknown, this algorithm has to find patterns and similarities in the data and the algorithm will group the data outputs with similar properties sharing some patterns of behavor. \n",
        "\n",
        "### Algorithms:\n",
        "* ### k-means clustering, Apriori algorithm\n",
        "\n",
        "## Semi-supervised Learning\n",
        "### This Algorithm is in between the Supervised and Unsupervised Learning, the idea is to have the power of both especially in cases where in a supervised learning algorithm, an unlabeled data point may appear and we will need the inference power of unsupervised learning\n",
        "### Algorithms:\n",
        "* ### This algorithm however is fairly new and still under research \n",
        "\n",
        "## Reinforcement Learning\n",
        "### This algorithm employs an agent in an environment without any initial data and the agent has to make or build experiences by interacting with the environment but since we might have a particular goal in mind, then we can reward it if it does well and punish poor performance so it feeds back to the learned and rewarded experiences and it tries a different path, so that the goal is to maximise the reward and this results in a model that has learned without any input or supervision.\n",
        "\n",
        "### Algorithms:\n",
        "* ### Q-Learning\n",
        "* ### state-action-reward-state-action (SARSA)\n",
        "* ### Deep Q network (DQN)\n",
        "* ### Deep deterministic policy gradient (DDPG)\n",
        "\n",
        "## Gradient Boosting Algorithm\n",
        "### This boosting is used when we have huge datasets and want high precision prediction, it takes a number of weak or average predictors and combines them into a stronger predictor\n",
        "\n",
        "### Algorithms:\n",
        "* ### GBM\n",
        "* XGBoost\n",
        "* LightGBM\n",
        "* CatBoost\n",
        "\n",
        "\n"
      ]
    }
  ]
}
